{
 "cells": [
  {
   "cell_type": "code",
   "execution_count": 1,
   "id": "7f9c1d15",
   "metadata": {},
   "outputs": [],
   "source": [
    "from services.pluggy.pluggy_client import listar_transacoes\n",
    "import os\n",
    "\n",
    "ACCOUNT_ID = \"0e000660-4285-4fe2-a668-d4a0cf4cb525\"\n"
   ]
  },
  {
   "cell_type": "code",
   "execution_count": 2,
   "id": "92b42068",
   "metadata": {},
   "outputs": [],
   "source": [
    "from datetime import datetime, timedelta\n",
    "\n",
    "#From 08/06/2025\n",
    "# To 08/07/2025\n",
    "var_from = datetime(2025,6,8)\n",
    "var_to = datetime(2025,7,16)"
   ]
  },
  {
   "cell_type": "code",
   "execution_count": 3,
   "id": "f62d0aa5",
   "metadata": {},
   "outputs": [
    {
     "ename": "TypeError",
     "evalue": "schemas.pluggy_transaction_schema.PluggyTransactionSchema() argument after ** must be a mapping, not PluggyTransactionSchema",
     "output_type": "error",
     "traceback": [
      "\u001b[31m---------------------------------------------------------------------------\u001b[39m",
      "\u001b[31mTypeError\u001b[39m                                 Traceback (most recent call last)",
      "\u001b[36mCell\u001b[39m\u001b[36m \u001b[39m\u001b[32mIn[3]\u001b[39m\u001b[32m, line 1\u001b[39m\n\u001b[32m----> \u001b[39m\u001b[32m1\u001b[39m transacoes = \u001b[43mlistar_transacoes\u001b[49m\u001b[43m(\u001b[49m\u001b[43mACCOUNT_ID\u001b[49m\u001b[43m,\u001b[49m\u001b[43m \u001b[49m\u001b[43mvar_from\u001b[49m\u001b[43m=\u001b[49m\u001b[43mvar_from\u001b[49m\u001b[43m,\u001b[49m\u001b[43m \u001b[49m\u001b[43mvar_to\u001b[49m\u001b[43m=\u001b[49m\u001b[43mvar_to\u001b[49m\u001b[43m)\u001b[49m\n",
      "\u001b[36mFile \u001b[39m\u001b[32mc:\\Users\\-User-\\Desktop\\finance_backend\\services\\pluggy\\pluggy_client.py:54\u001b[39m, in \u001b[36mlistar_transacoes\u001b[39m\u001b[34m(account_id, var_from, var_to, page)\u001b[39m\n\u001b[32m     49\u001b[39m     \u001b[38;5;28;01mfor\u001b[39;00m i \u001b[38;5;129;01min\u001b[39;00m \u001b[38;5;28mrange\u001b[39m(\u001b[32m2\u001b[39m, total_pages + \u001b[32m1\u001b[39m):\n\u001b[32m     50\u001b[39m         results += listar_transacoes(\n\u001b[32m     51\u001b[39m             account_id, var_from=var_from, var_to=var_to, page=i\n\u001b[32m     52\u001b[39m         )\n\u001b[32m---> \u001b[39m\u001b[32m54\u001b[39m \u001b[38;5;28;01mreturn\u001b[39;00m [PluggyTransactionSchema(**r) \u001b[38;5;28;01mfor\u001b[39;00m r \u001b[38;5;129;01min\u001b[39;00m results]\n",
      "\u001b[31mTypeError\u001b[39m: schemas.pluggy_transaction_schema.PluggyTransactionSchema() argument after ** must be a mapping, not PluggyTransactionSchema"
     ]
    }
   ],
   "source": [
    "transacoes = listar_transacoes(ACCOUNT_ID, var_from=var_from, var_to=var_to)"
   ]
  },
  {
   "cell_type": "code",
   "execution_count": null,
   "id": "8d9eabde",
   "metadata": {},
   "outputs": [
    {
     "data": {
      "text/plain": [
       "[Transaction(id='1cd4a440-2785-4857-894f-3a046fc4194c', description='EBN*SPOTIFY', currency_code='BRL', amount=11.9, amount_in_account_currency=None, var_date=datetime.datetime(2025, 7, 14, 6, 46, 44, 880000, tzinfo=TzInfo(UTC)), type='DEBIT', balance=None, provider_code=None, status='PENDING', category='Digital services', category_id='09000000', payment_data=None, credit_card_metadata=CreditCardMetadata(installment_number=None, total_installments=None, total_amount=None, purchase_date=None, payee_mcc=4899, card_number='2543', bill_id=None), merchant=Merchant(name='SPOTIFY BRASIL', business_name='SPOTIFY BRASIL SERVICOS DE MUSICA LTDA.', cnpj='17687734000193', cnae='6319400', category='Internet'), operation_type=None, provider_id='6874d20a8bef05f8a7e1dab9'),\n",
       " Transaction(id='e758c509-9d5d-4000-a2ee-e162be5a5d32', description='AUTO POSTO ESTRADA DOS', currency_code='BRL', amount=50, amount_in_account_currency=None, var_date=datetime.datetime(2025, 7, 12, 21, 36, 45, 73000, tzinfo=TzInfo(UTC)), type='DEBIT', balance=None, provider_code=None, status='PENDING', category='Gas stations', category_id='19050001', payment_data=None, credit_card_metadata=CreditCardMetadata(installment_number=None, total_installments=None, total_amount=None, purchase_date=None, payee_mcc=5541, card_number='3931', bill_id=None), merchant=None, operation_type=None, provider_id='6872ffc98bef05f8a7430e94'),\n",
       " Transaction(id='a8ed4891-65b2-4576-8051-c85e59d22ac6', description='UBER* PENDING', currency_code='BRL', amount=36.97, amount_in_account_currency=None, var_date=datetime.datetime(2025, 7, 12, 20, 47, 58, 587000, tzinfo=TzInfo(UTC)), type='DEBIT', balance=None, provider_code=None, status='PENDING', category='Taxi and ride-hailing', category_id='19010000', payment_data=None, credit_card_metadata=CreditCardMetadata(installment_number=None, total_installments=None, total_amount=None, purchase_date=None, payee_mcc=4121, card_number='2543', bill_id=None), merchant=Merchant(name='', business_name='UBER DO BRASIL TECNOLOGIA LTDA.', cnpj='17895646000187', cnae='7490104', category='Services'), operation_type=None, provider_id='6872f4328bef05f8a7148df9'),\n",
       " Transaction(id='4c2a1c27-8104-41e5-883c-ca1bb4c826e7', description='TAVERNA COM DADO', currency_code='BRL', amount=58, amount_in_account_currency=None, var_date=datetime.datetime(2025, 7, 11, 23, 10, 7, 593000, tzinfo=TzInfo(UTC)), type='DEBIT', balance=None, provider_code=None, status='PENDING', category='Kids and toys', category_id='08050000', payment_data=None, credit_card_metadata=CreditCardMetadata(installment_number=None, total_installments=None, total_amount=None, purchase_date=None, payee_mcc=5945, card_number='3931', bill_id=None), merchant=None, operation_type=None, provider_id='6871c4028bef05f8a774fe23'),\n",
       " Transaction(id='ee60412e-4550-4c31-99a6-b4629a1e67a5', description='UBER* PENDING', currency_code='BRL', amount=11.97, amount_in_account_currency=None, var_date=datetime.datetime(2025, 7, 11, 23, 7, 24, 60000, tzinfo=TzInfo(UTC)), type='DEBIT', balance=None, provider_code=None, status='PENDING', category='Taxi and ride-hailing', category_id='19010000', payment_data=None, credit_card_metadata=CreditCardMetadata(installment_number=None, total_installments=None, total_amount=None, purchase_date=None, payee_mcc=4121, card_number='2543', bill_id=None), merchant=Merchant(name='', business_name='UBER DO BRASIL TECNOLOGIA LTDA.', cnpj='17895646000187', cnae='7490104', category='Services'), operation_type=None, provider_id='6871c3638bef05f8a7738b31'),\n",
       " Transaction(id='153269bb-719c-4142-9e59-00389a67078e', description='Sitpass*1T250711-CT61', currency_code='BRL', amount=4.3, amount_in_account_currency=None, var_date=datetime.datetime(2025, 7, 11, 8, 36, 40, 640000, tzinfo=TzInfo(UTC)), type='DEBIT', balance=None, provider_code=None, status='PENDING', category='Public transportation', category_id='19020000', payment_data=None, credit_card_metadata=CreditCardMetadata(installment_number=None, total_installments=None, total_amount=None, purchase_date=None, payee_mcc=4111, card_number='3931', bill_id=None), merchant=None, operation_type=None, provider_id='6870f74c8bef05f8a7993272'),\n",
       " Transaction(id='96089b7c-31d2-4d91-a0ba-62d66c2ab8c1', description='UBER* PENDING', currency_code='BRL', amount=36.95, amount_in_account_currency=None, var_date=datetime.datetime(2025, 7, 9, 22, 26, 35, 823000, tzinfo=TzInfo(UTC)), type='DEBIT', balance=None, provider_code=None, status='PENDING', category='Taxi and ride-hailing', category_id='19010000', payment_data=None, credit_card_metadata=CreditCardMetadata(installment_number=None, total_installments=None, total_amount=None, purchase_date=None, payee_mcc=4121, card_number='2543', bill_id=None), merchant=Merchant(name='', business_name='UBER DO BRASIL TECNOLOGIA LTDA.', cnpj='17895646000187', cnae='7490104', category='Services'), operation_type=None, provider_id='686f16ce8bef05f8a7166c83'),\n",
       " Transaction(id='c351cbe1-b2f2-4160-895a-37f6412e89db', description='TAVERNA COM DADO', currency_code='BRL', amount=45.8, amount_in_account_currency=None, var_date=datetime.datetime(2025, 7, 9, 22, 12, 40, 593000, tzinfo=TzInfo(UTC)), type='DEBIT', balance=None, provider_code=None, status='PENDING', category='Kids and toys', category_id='08050000', payment_data=None, credit_card_metadata=CreditCardMetadata(installment_number=None, total_installments=None, total_amount=None, purchase_date=None, payee_mcc=5945, card_number='3931', bill_id=None), merchant=None, operation_type=None, provider_id='686f138b8bef05f8a70edb8b'),\n",
       " Transaction(id='647b3c45-1ad3-4e2b-ae4c-d18c6eb25cac', description='Sitpass*1T250709-RZ63', currency_code='BRL', amount=4.3, amount_in_account_currency=None, var_date=datetime.datetime(2025, 7, 9, 8, 26, 57, 210000, tzinfo=TzInfo(UTC)), type='DEBIT', balance=None, provider_code=None, status='PENDING', category='Public transportation', category_id='19020000', payment_data=None, credit_card_metadata=CreditCardMetadata(installment_number=None, total_installments=None, total_amount=None, purchase_date=None, payee_mcc=4111, card_number='3931', bill_id=None), merchant=None, operation_type=None, provider_id='686e52068bef05f8a7fc1a6d'),\n",
       " Transaction(id='dd853552-6d14-4ce9-942f-ab909395f891', description='Sitpass*1T250708-EL4V', currency_code='BRL', amount=4.3, amount_in_account_currency=None, var_date=datetime.datetime(2025, 7, 8, 17, 46, 9, 470000, tzinfo=TzInfo(UTC)), type='DEBIT', balance=None, provider_code=None, status='PENDING', category='Public transportation', category_id='19020000', payment_data=None, credit_card_metadata=CreditCardMetadata(installment_number=None, total_installments=None, total_amount=None, purchase_date=None, payee_mcc=4111, card_number='3931', bill_id=None), merchant=None, operation_type=None, provider_id='686d83948bef05f8a71b2574'),\n",
       " Transaction(id='bbdbbfc1-5a1c-4f7e-93fd-e7714bcf8094', description='Sitpass*1T250708-0FWQ', currency_code='BRL', amount=4.3, amount_in_account_currency=None, var_date=datetime.datetime(2025, 7, 8, 8, 25, 1, 83000, tzinfo=TzInfo(UTC)), type='DEBIT', balance=None, provider_code=None, status='PENDING', category='Public transportation', category_id='19020000', payment_data=None, credit_card_metadata=CreditCardMetadata(installment_number=None, total_installments=None, total_amount=None, purchase_date=None, payee_mcc=4111, card_number='3931', bill_id=None), merchant=None, operation_type=None, provider_id='686d00108bef05f8a7444baa'),\n",
       " Transaction(id='4d0d2442-28e0-48b3-ad32-4c2755035a15', description='Sitpass*1T250707-URI1', currency_code='BRL', amount=4.3, amount_in_account_currency=None, var_date=datetime.datetime(2025, 7, 7, 8, 52, 51, 207000, tzinfo=TzInfo(UTC)), type='DEBIT', balance=None, provider_code=None, status='PENDING', category='Public transportation', category_id='19020000', payment_data=None, credit_card_metadata=CreditCardMetadata(installment_number=None, total_installments=None, total_amount=None, purchase_date=None, payee_mcc=4111, card_number='3931', bill_id=None), merchant=None, operation_type=None, provider_id='686bb5158bef05f8a748ea5c'),\n",
       " Transaction(id='6f4d253a-e26f-471f-bc0f-6c09297dd721', description='Sitpass*1T250704-09DU', currency_code='BRL', amount=4.3, amount_in_account_currency=None, var_date=datetime.datetime(2025, 7, 4, 16, 48, 7, 290000, tzinfo=TzInfo(UTC)), type='DEBIT', balance=None, provider_code=None, status='PENDING', category='Public transportation', category_id='19020000', payment_data=None, credit_card_metadata=CreditCardMetadata(installment_number=None, total_installments=None, total_amount=None, purchase_date=None, payee_mcc=4111, card_number='3931', bill_id=None), merchant=None, operation_type=None, provider_id='68683004cc56aa8cb7a2f7b5'),\n",
       " Transaction(id='a8cfc191-fbf7-4c0d-bdce-b7ccb67c25ff', description='Sitpass*1T250704-F4K9', currency_code='BRL', amount=4.3, amount_in_account_currency=None, var_date=datetime.datetime(2025, 7, 4, 8, 48, 53, 737000, tzinfo=TzInfo(UTC)), type='DEBIT', balance=None, provider_code=None, status='PENDING', category='Public transportation', category_id='19020000', payment_data=None, credit_card_metadata=CreditCardMetadata(installment_number=None, total_installments=None, total_amount=None, purchase_date=None, payee_mcc=4111, card_number='3931', bill_id=None), merchant=None, operation_type=None, provider_id='6867bfaacc56aa8cb7c52ede'),\n",
       " Transaction(id='6b816ff5-5c99-4d9f-9a00-155da077639c', description='Sitpass*1T250703-GQKQ', currency_code='BRL', amount=4.3, amount_in_account_currency=None, var_date=datetime.datetime(2025, 7, 3, 17, 16, 49, 970000, tzinfo=TzInfo(UTC)), type='DEBIT', balance=None, provider_code=None, status='PENDING', category='Public transportation', category_id='19020000', payment_data=None, credit_card_metadata=CreditCardMetadata(installment_number=None, total_installments=None, total_amount=None, purchase_date=None, payee_mcc=4111, card_number='3931', bill_id=None), merchant=None, operation_type=None, provider_id='6866e538cc56aa8cb7249272'),\n",
       " Transaction(id='2069c8ff-8961-4c4d-a2dc-6af67cb3ebb5', description='Sitpass*1T250703-M5MH', currency_code='BRL', amount=4.3, amount_in_account_currency=None, var_date=datetime.datetime(2025, 7, 3, 8, 18, 2, 797000, tzinfo=TzInfo(UTC)), type='DEBIT', balance=None, provider_code=None, status='PENDING', category='Public transportation', category_id='19020000', payment_data=None, credit_card_metadata=CreditCardMetadata(installment_number=None, total_installments=None, total_amount=None, purchase_date=None, payee_mcc=4111, card_number='3931', bill_id=None), merchant=None, operation_type=None, provider_id='686666efcc56aa8cb7ddc51e'),\n",
       " Transaction(id='23c1ac3b-267c-44a1-83eb-ad66430f1a8f', description='Sitpass*1T250701-Q4XE', currency_code='BRL', amount=4.3, amount_in_account_currency=None, var_date=datetime.datetime(2025, 7, 1, 17, 25, 4, 260000, tzinfo=TzInfo(UTC)), type='DEBIT', balance=None, provider_code=None, status='PENDING', category='Public transportation', category_id='19020000', payment_data=None, credit_card_metadata=CreditCardMetadata(installment_number=None, total_installments=None, total_amount=None, purchase_date=None, payee_mcc=4111, card_number='3931', bill_id=None), merchant=None, operation_type=None, provider_id='68644422cc56aa8cb7a21d0c'),\n",
       " Transaction(id='6b179085-1796-4238-a875-44d650cd43b3', description='Sitpass*1T250701-UFPR', currency_code='BRL', amount=4.3, amount_in_account_currency=None, var_date=datetime.datetime(2025, 7, 1, 8, 17, 37, 20000, tzinfo=TzInfo(UTC)), type='DEBIT', balance=None, provider_code=None, status='PENDING', category='Public transportation', category_id='19020000', payment_data=None, credit_card_metadata=CreditCardMetadata(installment_number=None, total_installments=None, total_amount=None, purchase_date=None, payee_mcc=4111, card_number='3931', bill_id=None), merchant=None, operation_type=None, provider_id='6863c3d3cc56aa8cb767369d'),\n",
       " Transaction(id='6f9be948-ec2b-4e8b-abd6-f7504bf6e309', description='Sitpass*1T250630-4H9M', currency_code='BRL', amount=4.3, amount_in_account_currency=None, var_date=datetime.datetime(2025, 6, 30, 8, 42, 37, 293000, tzinfo=TzInfo(UTC)), type='DEBIT', balance=None, provider_code=None, status='PENDING', category='Public transportation', category_id='19020000', payment_data=None, credit_card_metadata=CreditCardMetadata(installment_number=None, total_installments=None, total_amount=None, purchase_date=None, payee_mcc=4111, card_number='3931', bill_id=None), merchant=None, operation_type=None, provider_id='68627833cc56aa8cb7bafe3c'),\n",
       " Transaction(id='e0554f93-b564-4f59-b4f1-7cf62f0ea199', description='BEIJO FRIO SORVETES', currency_code='BRL', amount=43.3, amount_in_account_currency=None, var_date=datetime.datetime(2025, 6, 29, 17, 11, 22, 797000, tzinfo=TzInfo(UTC)), type='DEBIT', balance=None, provider_code=None, status='PENDING', category='Shopping', category_id='08000000', payment_data=None, credit_card_metadata=CreditCardMetadata(installment_number=None, total_installments=None, total_amount=None, purchase_date=None, payee_mcc=5199, card_number='3931', bill_id=None), merchant=None, operation_type=None, provider_id='68619df1cc56aa8cb7fa4ed3'),\n",
       " Transaction(id='d79cd7da-1844-4351-8b40-9b0cf2aaf31f', description='FLAMBOYANT CHOCOLATES LTDGOIANIA', currency_code='BRL', amount=99.9, amount_in_account_currency=None, var_date=datetime.datetime(2025, 6, 12, 19, 58, 12, 37000, tzinfo=TzInfo(UTC)), type='DEBIT', balance=None, provider_code=None, status='PENDING', category='Groceries', category_id='10000000', payment_data=None, credit_card_metadata=CreditCardMetadata(installment_number=None, total_installments=None, total_amount=None, purchase_date=None, payee_mcc=5441, card_number='3931', bill_id=None), merchant=None, operation_type=None, provider_id='684b5b8e6763ac13727a5e3e'),\n",
       " Transaction(id='4c3b34a8-c297-4b90-bfed-ef98f6eab1a3', description='Sitpass*1T250612-JNCO', currency_code='BRL', amount=4.3, amount_in_account_currency=None, var_date=datetime.datetime(2025, 6, 12, 17, 54, 17, 50000, tzinfo=TzInfo(UTC)), type='DEBIT', balance=None, provider_code=None, status='PENDING', category='Public transportation', category_id='19020000', payment_data=None, credit_card_metadata=CreditCardMetadata(installment_number=None, total_installments=None, total_amount=None, purchase_date=None, payee_mcc=4111, card_number='3931', bill_id=None), merchant=None, operation_type=None, provider_id='684b3e7e6763ac1372c61b17'),\n",
       " Transaction(id='4a9c423a-d25a-4225-a46f-50734161607e', description='LuzmarinaCarneiro', currency_code='BRL', amount=42, amount_in_account_currency=None, var_date=datetime.datetime(2025, 6, 8, 8, 52, 39, 73000, tzinfo=TzInfo(UTC)), type='DEBIT', balance=None, provider_code=None, status='PENDING', category='Groceries', category_id='10000000', payment_data=None, credit_card_metadata=CreditCardMetadata(installment_number=None, total_installments=None, total_amount=None, purchase_date=None, payee_mcc=5499, card_number='3931', bill_id=None), merchant=None, operation_type=None, provider_id='6845798a6763ac1372e9204b'),\n",
       " Transaction(id='9e339fdd-97d8-4de7-859a-3fb4d88f20ce', description='UBER * PENDING', currency_code='BRL', amount=29.95, amount_in_account_currency=None, var_date=datetime.datetime(2025, 6, 8, 0, 27, 30, 980000, tzinfo=TzInfo(UTC)), type='DEBIT', balance=None, provider_code=None, status='PENDING', category='Taxi and ride-hailing', category_id='19010000', payment_data=None, credit_card_metadata=CreditCardMetadata(installment_number=None, total_installments=None, total_amount=None, purchase_date=None, payee_mcc=4121, card_number='2543', bill_id=None), merchant=Merchant(name='', business_name='UBER DO BRASIL TECNOLOGIA LTDA.', cnpj='17895646000187', cnae='7490104', category='Services'), operation_type=None, provider_id='684503296763ac1372ed716a'),\n",
       " Transaction(id='1a9d81c4-1072-4164-ac07-3a8a35c431be', description='SHIVA ALT BAR', currency_code='BRL', amount=28.49, amount_in_account_currency=None, var_date=datetime.datetime(2025, 6, 8, 0, 11, 48, 490000, tzinfo=TzInfo(UTC)), type='DEBIT', balance=None, provider_code=None, status='PENDING', category='Eating out', category_id='11010000', payment_data=None, credit_card_metadata=CreditCardMetadata(installment_number=None, total_installments=None, total_amount=None, purchase_date=None, payee_mcc=5813, card_number='3931', bill_id=None), merchant=None, operation_type=None, provider_id='6844ff796763ac1372e63b1d')]"
      ]
     },
     "execution_count": 11,
     "metadata": {},
     "output_type": "execute_result"
    }
   ],
   "source": [
    "transacoes"
   ]
  },
  {
   "cell_type": "code",
   "execution_count": null,
   "id": "10468315",
   "metadata": {},
   "outputs": [
    {
     "name": "stdout",
     "output_type": "stream",
     "text": [
      "Pagamento para BANCO XP S/A  -  2025-07-15 11:18:56.626000+00:00\n",
      "Pix enviado para Servico Nacional de Aprendizagem Industrial  -  2025-07-14 12:49:45.836000+00:00\n",
      "Pix recebido de Samuel Carvalho de Almeida  -  2025-07-13 00:36:49.654000+00:00\n",
      "Pix enviado para Paulo Vitor Carvalho Vieira  -  2025-07-10 12:21:22.847000+00:00\n",
      "Pix enviado para Pedro Paulo Carvalho Vieira  -  2025-07-08 12:18:04.091000+00:00\n",
      "Pix recebido de Cred Facil Ltda  -  2025-07-08 12:12:03.146000+00:00\n"
     ]
    }
   ],
   "source": [
    "for t in transacoes:\n",
    "    print(t.description, \" - \", t.var_date)"
   ]
  }
 ],
 "metadata": {
  "kernelspec": {
   "display_name": ".venv",
   "language": "python",
   "name": "python3"
  },
  "language_info": {
   "codemirror_mode": {
    "name": "ipython",
    "version": 3
   },
   "file_extension": ".py",
   "mimetype": "text/x-python",
   "name": "python",
   "nbconvert_exporter": "python",
   "pygments_lexer": "ipython3",
   "version": "3.13.2"
  }
 },
 "nbformat": 4,
 "nbformat_minor": 5
}
