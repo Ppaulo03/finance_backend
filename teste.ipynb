{
 "cells": [
  {
   "cell_type": "code",
   "execution_count": 95,
   "id": "a3928e02",
   "metadata": {},
   "outputs": [],
   "source": [
    "from IPython.display import display, Markdown, clear_output\n",
    "import ipywidgets as widgets\n",
    "\n",
    "from tagging.sugest import sugerir_rotulos\n",
    "from extract import extract_data\n",
    "import io, os\n"
   ]
  },
  {
   "cell_type": "code",
   "execution_count": 96,
   "id": "4250809c",
   "metadata": {},
   "outputs": [],
   "source": [
    "contas = [\"Conta Corrente XP\", \"Cartão de Crédito XP\"]"
   ]
  },
  {
   "cell_type": "code",
   "execution_count": 97,
   "id": "3b74433e",
   "metadata": {},
   "outputs": [],
   "source": [
    "def get_upload_widget() -> widgets.FileUpload:\n",
    "    return widgets.FileUpload(\n",
    "        accept=\".csv\",\n",
    "        multiple=False,\n",
    "        description=\"📁 Selecionar CSV\",\n",
    "        style={\"font_weight\": \"bold\"},\n",
    "        layout=widgets.Layout(padding=\"8px 15px\", width=\"auto\"),\n",
    "    )\n",
    "\n",
    "\n",
    "def criar_campos_input():\n",
    "    conta = widgets.Dropdown(options=contas, layout=widgets.Layout(width='30%'))\n",
    "    tipo = widgets.Text(description=\"Tipo:\", placeholder=\"Digite o tipo aqui\", layout=widgets.Layout(width='30%'))\n",
    "    categoria = widgets.Text(description=\"Categoria:\", placeholder=\"Digite a categoria aqui\", layout=widgets.Layout(width='30%'))\n",
    "    subcategoria = widgets.Text(description=\"Subcategoria:\", placeholder=\"Digite a subcategoria aqui\", layout=widgets.Layout(width='30%'))\n",
    "    nome = widgets.Text(description=\"Nome:\", placeholder=\"Digite o nome aqui\", layout=widgets.Layout(width='100%'))\n",
    "    notas = widgets.Textarea(description=\"Notas:\", placeholder=\"Digite notas aqui\", layout=widgets.Layout(width='100%', height='100px'))\n",
    "    return conta, tipo, categoria, subcategoria, nome, notas\n",
    "\n",
    "def mostrar_item(row, index, size):\n",
    "    clear_output(wait=True)\n",
    "    texto = f\"### Item {index+1} / {size}\\n\"\n",
    "    for k, v in row.items():\n",
    "        texto += f\"**{k}**: {v}  \\n\"\n",
    "    display(Markdown(texto))\n"
   ]
  },
  {
   "cell_type": "code",
   "execution_count": null,
   "id": "7b6a23ec",
   "metadata": {},
   "outputs": [],
   "source": [
    "def save_row(row, labels):\n",
    "    if not os.path.exists(\"entry.csv\"):\n",
    "        with open(\"entry.csv\", \"w\", encoding=\"utf-8-sig\") as f:\n",
    "            f.write(','.join(labels) + '\\n')\n",
    "\n",
    "    with open(\"entry.csv\", \"a\", encoding=\"utf-8-sig\") as f:\n",
    "        values = [str(row.get(label, '')) for label in labels]\n",
    "        f.write(','.join(values) + '\\n')"
   ]
  },
  {
   "cell_type": "code",
   "execution_count": null,
   "id": "43caa73e",
   "metadata": {},
   "outputs": [],
   "source": [
    "def handle_upload(_):\n",
    "    if value := upload_widget.value:\n",
    "        file_info = next(iter(value.values()))\n",
    "        content = file_info[\"content\"]\n",
    "        df = extract_data(io.BytesIO(content))\n",
    "        process_row(df, 0, [])\n",
    "\n",
    "\n",
    "def exibir_upload_widget():\n",
    "    global upload_widget\n",
    "    upload_widget = get_upload_widget()\n",
    "    upload_widget.observe(handle_upload, names=\"value\")\n",
    "    display(upload_widget)\n",
    "\n",
    "\n",
    "def process_row(df, index, labels):\n",
    "    row = df.iloc[index]\n",
    "    mostrar_item(row, index, len(df))\n",
    "\n",
    "    conta, tipo, categoria, subcategoria, nome, notas = criar_campos_input()\n",
    "\n",
    "    if rotulos := sugerir_rotulos(row[\"Data\"], row[\"Valor\"], row[\"Destino / Origem\"], row[\"Descricao\"]):\n",
    "        tipo.value = rotulos.get(\"Tipo\", \"\")\n",
    "        categoria.value = rotulos.get(\"Categoria\", \"\")\n",
    "        subcategoria.value = rotulos.get(\"Subcategoria\", \"\")\n",
    "        nome.value = rotulos.get(\"Nome\", \"\")\n",
    "\n",
    "    linha_superior = widgets.HBox([conta, tipo, categoria, subcategoria], layout=widgets.Layout(gap='10px'))\n",
    "    linha_media = widgets.HBox([nome])\n",
    "    linha_inferior = widgets.HBox([notas], layout=widgets.Layout(width='100%'))\n",
    "\n",
    "    formulario = widgets.VBox([linha_superior, linha_media, linha_inferior], layout=widgets.Layout(width='100%', gap='10px'))\n",
    "\n",
    "    button = widgets.Button(description=\"Confirmar\")\n",
    "    output = widgets.Output()\n",
    "\n",
    "    def on_confirm(_):\n",
    "\n",
    "        tipo_value = tipo.value.strip()\n",
    "        categoria_value = categoria.value.strip()\n",
    "        subcategoria_value= subcategoria.value.strip()\n",
    "        nome_value = nome.value.strip()\n",
    "\n",
    "        if not tipo_value:\n",
    "            with output:\n",
    "                clear_output()\n",
    "                print(\"Por favor, insira um tipo antes de confirmar.\")\n",
    "            return\n",
    "\n",
    "        if not categoria_value:\n",
    "            with output:\n",
    "                clear_output()\n",
    "                print(\"Por favor, insira uma categoria antes de confirmar.\")\n",
    "            return\n",
    "        \n",
    "        if not subcategoria_value:\n",
    "            with output:\n",
    "                clear_output()\n",
    "                print(\"Por favor, insira uma subcategoria antes de confirmar.\")\n",
    "            return\n",
    "        \n",
    "        if not nome_value:\n",
    "            with output:\n",
    "                clear_output()\n",
    "                print(\"Por favor, insira um nome antes de confirmar.\")\n",
    "            return\n",
    "        \n",
    "        labels = [\"Data\",\"Valor\",\"Destino / Origem\",\"Descricao\",\"Tipo\",\"Categoria\",\"Subcategoria\",\"Nome\",\"Conta\",\"Notas\"]\n",
    "        row_data = {\n",
    "            \"Data\": row[\"Data\"],\n",
    "            \"Valor\": row[\"Valor\"],\n",
    "            \"Destino / Origem\": row[\"Destino / Origem\"],\n",
    "            \"Descricao\": row[\"Descricao\"],\n",
    "            \"Tipo\": tipo_value,\n",
    "            \"Categoria\": categoria_value,\n",
    "            \"Subcategoria\": subcategoria_value,\n",
    "            \"Nome\": f'\"{nome_value}\"',\n",
    "            \"Conta\": contas.index(conta.value)+1 if conta.value in contas else conta.value,\n",
    "            \"Notas\": notas.value.strip()\n",
    "        }\n",
    "        save_row(row_data, labels)\n",
    "        if index + 1 < len(df):\n",
    "            process_row(df, index + 1, labels)\n",
    "        else:\n",
    "            clear_output()\n",
    "            exibir_upload_widget()\n",
    "\n",
    "    button.on_click(on_confirm)\n",
    "    display(formulario, button, output)\n"
   ]
  },
  {
   "cell_type": "code",
   "execution_count": null,
   "id": "2bd243a5",
   "metadata": {},
   "outputs": [
    {
     "data": {
      "text/markdown": [
       "### Item 4 / 11\n",
       "**Data**: 2024-01-31 09:25:27  \n",
       "**Valor**: -900.0  \n",
       "**Destino / Origem**: para conta investimento  \n",
       "**Descricao**: Transferência enviada para conta investimento  \n",
       "**Tipo**: Transferência  \n"
      ],
      "text/plain": [
       "<IPython.core.display.Markdown object>"
      ]
     },
     "metadata": {},
     "output_type": "display_data"
    },
    {
     "data": {
      "application/vnd.jupyter.widget-view+json": {
       "model_id": "fa82daacd05940ab8da69ed3cd6b4468",
       "version_major": 2,
       "version_minor": 0
      },
      "text/plain": [
       "VBox(children=(HBox(children=(Dropdown(layout=Layout(width='30%'), options=('Conta Corrente XP', 'Cartão de Cr…"
      ]
     },
     "metadata": {},
     "output_type": "display_data"
    },
    {
     "data": {
      "application/vnd.jupyter.widget-view+json": {
       "model_id": "8e3c2e070e884b8ca6e1d12ed12d9514",
       "version_major": 2,
       "version_minor": 0
      },
      "text/plain": [
       "Button(description='Confirmar', style=ButtonStyle())"
      ]
     },
     "metadata": {},
     "output_type": "display_data"
    },
    {
     "data": {
      "application/vnd.jupyter.widget-view+json": {
       "model_id": "ed13031503a2435db10866ea61af6be0",
       "version_major": 2,
       "version_minor": 0
      },
      "text/plain": [
       "Output()"
      ]
     },
     "metadata": {},
     "output_type": "display_data"
    }
   ],
   "source": [
    "upload_widget = get_upload_widget()\n",
    "upload_widget.observe(handle_upload, names=\"value\")\n",
    "display(upload_widget)"
   ]
  }
 ],
 "metadata": {
  "kernelspec": {
   "display_name": "venv",
   "language": "python",
   "name": "python3"
  },
  "language_info": {
   "codemirror_mode": {
    "name": "ipython",
    "version": 3
   },
   "file_extension": ".py",
   "mimetype": "text/x-python",
   "name": "python",
   "nbconvert_exporter": "python",
   "pygments_lexer": "ipython3",
   "version": "3.13.2"
  }
 },
 "nbformat": 4,
 "nbformat_minor": 5
}
