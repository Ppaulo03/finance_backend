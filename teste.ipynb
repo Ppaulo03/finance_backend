{
 "cells": [
  {
   "cell_type": "markdown",
   "id": "7c31ee2e",
   "metadata": {},
   "source": [
    "### ⚙️ Flags de Controle de Execução\n",
    "\n",
    "Estas variáveis controlam a execução de blocos específicos do notebook:\n",
    "\n",
    "- `RESET_DATABASES = False`:  \n",
    "  Define se o banco de dados deve ser resetado e os dados recarregados a partir dos arquivos CSV originais.  \n",
    "  > `True` = Apaga e recria as tabelas, recarregando os dados.  \n",
    "  > `False` = Mantém os dados existentes no banco.\n",
    "\n",
    "- `ADD_ENTRIES = False`:  \n",
    "  Define se novas entradas (arquivos `.csv` na pasta `entries_folder`) devem ser enviadas para o endpoint `/tag_financas`.  \n",
    "  > `True` = Envia arquivos e move os processados para `old_entries_folder`.  \n",
    "  > `False` = Ignora essa etapa.\n",
    "\n",
    "> ✅ Altere essas flags conforme necessário para controlar o comportamento do notebook sem modificar a lógica interna."
   ]
  },
  {
   "cell_type": "code",
   "execution_count": null,
   "id": "22f507b6",
   "metadata": {},
   "outputs": [],
   "source": [
    "RESET_DATABASES = False\n",
    "ADD_ENTRIES = False"
   ]
  },
  {
   "cell_type": "code",
   "execution_count": 9,
   "id": "49bf90d8",
   "metadata": {},
   "outputs": [],
   "source": [
    "\n",
    "from database.finance_schema import FinanceEntrySchema, AccountSchema\n",
    "from database import FinanceDB\n",
    "from tqdm import tqdm\n",
    "from time import time\n",
    "import pandas as pd\n",
    "import requests, os, shutil"
   ]
  },
  {
   "cell_type": "code",
   "execution_count": 13,
   "id": "63498712",
   "metadata": {},
   "outputs": [],
   "source": [
    "user_id = \"d0db18d3-b0a5-4e0b-8456-e1ca560cd574\"\n",
    "url = \"http://127.0.0.1:3000\"\n",
    "body = {\"user_id\":user_id}"
   ]
  },
  {
   "cell_type": "code",
   "execution_count": 11,
   "id": "0b7a8383",
   "metadata": {},
   "outputs": [],
   "source": [
    "data_folder = 'data'\n",
    "os.makedirs(data_folder, exist_ok=True)\n",
    "\n",
    "backup_folder = 'data/backup'\n",
    "os.makedirs(backup_folder, exist_ok=True)\n",
    "\n",
    "entries_folder = \"entries\"\n",
    "os.makedirs(entries_folder, exist_ok=True)\n",
    "\n",
    "old_entries_folder = 'entries/processed'\n",
    "os.makedirs(old_entries_folder, exist_ok=True)"
   ]
  },
  {
   "cell_type": "code",
   "execution_count": 16,
   "id": "707fa128",
   "metadata": {},
   "outputs": [],
   "source": [
    "data = requests.post(f\"{url}/financas\", json=body).json()"
   ]
  },
  {
   "cell_type": "code",
   "execution_count": 17,
   "id": "4f903dee",
   "metadata": {},
   "outputs": [],
   "source": [
    "financas = [FinanceEntrySchema(**entry) for entry in data[\"financas\"]]\n",
    "financas_df = pd.DataFrame(data[\"financas\"])\n",
    "\n",
    "accounts = [AccountSchema(**acc) for acc in data[\"accounts\"]]\n",
    "accounts_df = pd.DataFrame(data[\"accounts\"])"
   ]
  },
  {
   "cell_type": "code",
   "execution_count": 18,
   "id": "9f268808",
   "metadata": {},
   "outputs": [],
   "source": [
    "financas_df.to_csv(f\"{backup_folder}/financas_{time()}.csv\", index=False, encoding=\"utf-8-sig\")\n",
    "accounts_df.to_csv(f\"{backup_folder}/accounts_{time()}.csv\", index=False, encoding=\"utf-8-sig\")"
   ]
  },
  {
   "cell_type": "markdown",
   "id": "ba2c0c65",
   "metadata": {},
   "source": [
    "### 🔄 Restauração do Banco de Dados\n",
    "\n",
    "Esta célula é responsável por **resetar as tabelas do banco de dados** e **recarregar os dados a partir de arquivos CSV** (`financas.csv` e `accounts.csv`).  \n",
    "Ela só será executada se a flag `RESET_DATABASES` estiver ativada (`True`).\n",
    "\n",
    "- Conecta ao banco via `FinanceDB`.\n",
    "- Executa `reset_tables()` para limpar e recriar as tabelas.\n",
    "- Carrega os dados:\n",
    "  - **Finanças**: de `financas.csv`, convertendo cada linha em `FinanceEntrySchema`, garantindo que o campo `notas` esteja presente (mesmo que vazio).\n",
    "  - **Contas**: de `accounts.csv`, convertendo cada linha em `AccountSchema`.\n",
    "- Em caso de erro, imprime o erro ocorrido.\n",
    "- Garante que o banco será fechado no final da execução com `db.close()`.\n",
    "\n",
    "> ⚠️ Use com cuidado: essa operação sobrescreve os dados atuais do banco."
   ]
  },
  {
   "cell_type": "code",
   "execution_count": 20,
   "id": "b96c0f43",
   "metadata": {},
   "outputs": [],
   "source": [
    "def load_csv_and_insert(path, insert_fn, build_schema_fn, fillna_dict=None):\n",
    "    if not os.path.exists(path):\n",
    "        return\n",
    "    \n",
    "    df = pd.read_csv(path)\n",
    "    if fillna_dict:\n",
    "        df.fillna(fillna_dict, inplace=True)\n",
    "    \n",
    "    with tqdm(total=len(df), desc=f\"Inserting from {os.path.basename(path)}\") as pbar:\n",
    "        for _, row in df.iterrows():\n",
    "            schema = build_schema_fn(row)\n",
    "            insert_fn(schema)     \n",
    "            pbar.update(1)"
   ]
  },
  {
   "cell_type": "code",
   "execution_count": null,
   "id": "26243922",
   "metadata": {},
   "outputs": [],
   "source": [
    "RESET_DATABASES = False\n",
    "if RESET_DATABASES:\n",
    "\n",
    "    db = FinanceDB(\"d0db18d3-b0a5-4e0b-8456-e1ca560cd574\")\n",
    "    try:\n",
    "        db.reset_tables()\n",
    "        print('loading financas')\n",
    "        load_csv_and_insert(\n",
    "            f\"{data_folder}/financas.csv\",\n",
    "            db.insert_financa,\n",
    "            lambda row: FinanceEntrySchema(**{**row, \"notas\": row.get(\"notas\", \"\") or \"\"}),\n",
    "            {\"notas\": \"\"}\n",
    "        )\n",
    "        print('loading accounts')\n",
    "        load_csv_and_insert(\n",
    "            f\"{data_folder}/accounts.csv\",\n",
    "            db.insert_account,\n",
    "            lambda row: AccountSchema(\n",
    "                nome=row.get(\"nome\", \"\"),\n",
    "                saldo_inicial=row.get(\"saldo_inicial\", 0.0),\n",
    "                open_finance_id=row.get(\"open_finance_id\"),\n",
    "            ),\n",
    "        )\n",
    "    except Exception as e:\n",
    "        print(f\"Erro geral ao restaurar: {e}\")\n",
    "\n",
    "    finally:\n",
    "        db.close()"
   ]
  },
  {
   "cell_type": "markdown",
   "id": "2e75a353",
   "metadata": {},
   "source": [
    "### 📤 Envio de Novas Entradas para Processamento\n",
    "\n",
    "Esta célula envia arquivos CSV com novas entradas financeiras para a API `/tag_financas`.  \n",
    "A execução ocorre apenas se a flag `ADD_ENTRIES` estiver ativada (`True`).\n",
    "\n",
    "#### Etapas:\n",
    "1. Percorre todos os arquivos da pasta `entries_folder`.\n",
    "2. Filtra apenas arquivos com extensão `.csv`.\n",
    "3. Para cada arquivo CSV:\n",
    "   - Envia o conteúdo via `POST` para o endpoint de tagueamento financeiro.\n",
    "   - Lança erro caso a requisição falhe (`raise_for_status()`).\n",
    "   - Move o arquivo para a pasta `old_entries_folder` após o envio com sucesso, para evitar reprocessamentos futuros.\n",
    "\n",
    "> 💡 Útil para processar novos dados financeiros de forma automática, garantindo que não sejam enviados novamente no futuro.\n"
   ]
  },
  {
   "cell_type": "code",
   "execution_count": null,
   "id": "d748fee2",
   "metadata": {},
   "outputs": [],
   "source": [
    "ADD_ENTRIES = False\n",
    "if ADD_ENTRIES:\n",
    "    for file in os.listdir(entries_folder):\n",
    "        if not file.endswith('.csv'): continue\n",
    "        file_path = fr\"{entries_folder}/{file}\"\n",
    "        with open(file_path, \"rb\") as f:\n",
    "            response = requests.post(f\"{url}/tag_financas\", files={\"file\": f})\n",
    "            response.raise_for_status()\n",
    "        shutil.move(file_path, os.path.join(old_entries_folder, os.path.basename(file_path)))"
   ]
  }
 ],
 "metadata": {
  "kernelspec": {
   "display_name": ".venv (3.13.1)",
   "language": "python",
   "name": "python3"
  },
  "language_info": {
   "codemirror_mode": {
    "name": "ipython",
    "version": 3
   },
   "file_extension": ".py",
   "mimetype": "text/x-python",
   "name": "python",
   "nbconvert_exporter": "python",
   "pygments_lexer": "ipython3",
   "version": "3.13.1"
  }
 },
 "nbformat": 4,
 "nbformat_minor": 5
}
