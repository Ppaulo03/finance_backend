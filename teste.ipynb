{
 "cells": [
  {
   "cell_type": "markdown",
   "id": "7c31ee2e",
   "metadata": {},
   "source": [
    "### ⚙️ Flags de Controle de Execução\n",
    "\n",
    "Estas variáveis controlam a execução de blocos específicos do notebook:\n",
    "\n",
    "- `RESET_DATABASES = False`:  \n",
    "  Define se o banco de dados deve ser resetado e os dados recarregados a partir dos arquivos CSV originais.  \n",
    "  > `True` = Apaga e recria as tabelas, recarregando os dados.  \n",
    "  > `False` = Mantém os dados existentes no banco.\n",
    "\n",
    "- `ADD_ENTRIES = False`:  \n",
    "  Define se novas entradas (arquivos `.csv` na pasta `entries_folder`) devem ser enviadas para o endpoint `/tag_financas`.  \n",
    "  > `True` = Envia arquivos e move os processados para `old_entries_folder`.  \n",
    "  > `False` = Ignora essa etapa.\n",
    "\n",
    "> ✅ Altere essas flags conforme necessário para controlar o comportamento do notebook sem modificar a lógica interna."
   ]
  },
  {
   "cell_type": "code",
   "execution_count": 1,
   "id": "22f507b6",
   "metadata": {},
   "outputs": [],
   "source": [
    "RESET_DATABASES = False\n",
    "ADD_ENTRIES = False"
   ]
  },
  {
   "cell_type": "code",
   "execution_count": 2,
   "id": "49bf90d8",
   "metadata": {},
   "outputs": [],
   "source": [
    "\n",
    "from database.finance_schema import FinanceEntrySchema, AccountSchema\n",
    "from  datetime import datetime\n",
    "from database import FinanceDB\n",
    "from tqdm import tqdm\n",
    "from time import time\n",
    "import pandas as pd\n",
    "import requests, os, shutil"
   ]
  },
  {
   "cell_type": "code",
   "execution_count": 3,
   "id": "63498712",
   "metadata": {},
   "outputs": [],
   "source": [
    "user_id = \"d0db18d3-b0a5-4e0b-8456-e1ca560cd574\"\n",
    "url = \"http://127.0.0.1:3000\"\n",
    "body = {\"user_id\":user_id}"
   ]
  },
  {
   "cell_type": "code",
   "execution_count": 20,
   "id": "0b7a8383",
   "metadata": {},
   "outputs": [],
   "source": [
    "data_folder = 'data'\n",
    "os.makedirs(data_folder, exist_ok=True)\n",
    "\n",
    "backup_folder = 'data/backup'\n",
    "os.makedirs(backup_folder, exist_ok=True)\n",
    "\n",
    "entries_folder = \"entries\"\n",
    "os.makedirs(entries_folder, exist_ok=True)\n",
    "\n",
    "old_entries_folder = 'entries/processed'\n",
    "os.makedirs(old_entries_folder, exist_ok=True)"
   ]
  },
  {
   "cell_type": "code",
   "execution_count": 14,
   "id": "707fa128",
   "metadata": {},
   "outputs": [],
   "source": [
    "data = requests.post(f\"{url}/financas\", json=body).json()"
   ]
  },
  {
   "cell_type": "code",
   "execution_count": 15,
   "id": "4f903dee",
   "metadata": {},
   "outputs": [],
   "source": [
    "financas = [FinanceEntrySchema(**entry) for entry in data[\"financas\"]]\n",
    "financas_df = pd.DataFrame(data[\"financas\"])\n",
    "\n",
    "accounts = [AccountSchema(**acc) for acc in data[\"accounts\"]]\n",
    "accounts_df = pd.DataFrame(data[\"accounts\"])"
   ]
  },
  {
   "cell_type": "code",
   "execution_count": 21,
   "id": "9f268808",
   "metadata": {},
   "outputs": [],
   "source": [
    "financas_df.to_csv(f\"{backup_folder}/financas_{time()}.csv\", index=False, encoding=\"utf-8-sig\")\n",
    "accounts_df.to_csv(f\"{backup_folder}/accounts_{time()}.csv\", index=False, encoding=\"utf-8-sig\")"
   ]
  },
  {
   "cell_type": "code",
   "execution_count": 24,
   "id": "54c61e43",
   "metadata": {},
   "outputs": [
    {
     "name": "stdout",
     "output_type": "stream",
     "text": [
      "Saldo Total: R$311.18\n",
      "Saldo Conta Corrente XP: R$1130.17\n",
      "Saldo Cartão de Crédito XP: R$-818.99\n"
     ]
    }
   ],
   "source": [
    "response = requests.post(f'{url}/resume_financas', json=body|data).json()\n",
    "print(f\"Saldo Total: R${response['saldo_total']:.2f}\")\n",
    "for acc in response['saldo_por_conta']:\n",
    "    print(f\"Saldo {acc['nome']}: R${acc['valor']:.2f}\")"
   ]
  },
  {
   "cell_type": "code",
   "execution_count": 22,
   "id": "279afb39",
   "metadata": {},
   "outputs": [],
   "source": [
    "news = financas_df[financas_df[\"need_tagging\"] == True]"
   ]
  },
  {
   "cell_type": "code",
   "execution_count": 28,
   "id": "3d389b6d",
   "metadata": {},
   "outputs": [
    {
     "data": {
      "text/html": [
       "<div>\n",
       "<style scoped>\n",
       "    .dataframe tbody tr th:only-of-type {\n",
       "        vertical-align: middle;\n",
       "    }\n",
       "\n",
       "    .dataframe tbody tr th {\n",
       "        vertical-align: top;\n",
       "    }\n",
       "\n",
       "    .dataframe thead th {\n",
       "        text-align: right;\n",
       "    }\n",
       "</style>\n",
       "<table border=\"1\" class=\"dataframe\">\n",
       "  <thead>\n",
       "    <tr style=\"text-align: right;\">\n",
       "      <th></th>\n",
       "      <th>id</th>\n",
       "      <th>data</th>\n",
       "      <th>valor</th>\n",
       "      <th>destino_origem</th>\n",
       "      <th>descricao</th>\n",
       "      <th>tipo</th>\n",
       "      <th>categoria</th>\n",
       "      <th>subcategoria</th>\n",
       "      <th>nome</th>\n",
       "      <th>conta</th>\n",
       "      <th>notas</th>\n",
       "      <th>need_tagging</th>\n",
       "    </tr>\n",
       "  </thead>\n",
       "  <tbody>\n",
       "    <tr>\n",
       "      <th>463</th>\n",
       "      <td>464</td>\n",
       "      <td>2025-07-20T14:42:00</td>\n",
       "      <td>-23.99</td>\n",
       "      <td>Nuvei do Brasil Ltda.</td>\n",
       "      <td>Pix enviado para Nuvei do Brasil Ltda.</td>\n",
       "      <td>Gasto</td>\n",
       "      <td></td>\n",
       "      <td></td>\n",
       "      <td></td>\n",
       "      <td>1</td>\n",
       "      <td></td>\n",
       "      <td>True</td>\n",
       "    </tr>\n",
       "    <tr>\n",
       "      <th>464</th>\n",
       "      <td>465</td>\n",
       "      <td>2025-07-15T00:00:00</td>\n",
       "      <td>1527.06</td>\n",
       "      <td>Pagamentos Validos Normais</td>\n",
       "      <td>Compra no Cartão de Crédito</td>\n",
       "      <td>Transferência</td>\n",
       "      <td></td>\n",
       "      <td></td>\n",
       "      <td></td>\n",
       "      <td>2</td>\n",
       "      <td></td>\n",
       "      <td>True</td>\n",
       "    </tr>\n",
       "    <tr>\n",
       "      <th>465</th>\n",
       "      <td>466</td>\n",
       "      <td>2025-07-19T00:00:00</td>\n",
       "      <td>-14.97</td>\n",
       "      <td>UBER * PENDING</td>\n",
       "      <td>Compra no Cartão de Crédito</td>\n",
       "      <td>Gasto</td>\n",
       "      <td></td>\n",
       "      <td></td>\n",
       "      <td></td>\n",
       "      <td>2</td>\n",
       "      <td></td>\n",
       "      <td>True</td>\n",
       "    </tr>\n",
       "  </tbody>\n",
       "</table>\n",
       "</div>"
      ],
      "text/plain": [
       "      id                 data    valor              destino_origem  \\\n",
       "463  464  2025-07-20T14:42:00   -23.99       Nuvei do Brasil Ltda.   \n",
       "464  465  2025-07-15T00:00:00  1527.06  Pagamentos Validos Normais   \n",
       "465  466  2025-07-19T00:00:00   -14.97              UBER * PENDING   \n",
       "\n",
       "                                  descricao           tipo categoria  \\\n",
       "463  Pix enviado para Nuvei do Brasil Ltda.          Gasto             \n",
       "464             Compra no Cartão de Crédito  Transferência             \n",
       "465             Compra no Cartão de Crédito          Gasto             \n",
       "\n",
       "    subcategoria nome  conta notas  need_tagging  \n",
       "463                        1                True  \n",
       "464                        2                True  \n",
       "465                        2                True  "
      ]
     },
     "execution_count": 28,
     "metadata": {},
     "output_type": "execute_result"
    }
   ],
   "source": [
    "news"
   ]
  },
  {
   "cell_type": "markdown",
   "id": "ba2c0c65",
   "metadata": {},
   "source": [
    "### 🔄 Restauração do Banco de Dados\n",
    "\n",
    "Esta célula é responsável por **resetar as tabelas do banco de dados** e **recarregar os dados a partir de arquivos CSV** (`financas.csv` e `accounts.csv`).  \n",
    "Ela só será executada se a flag `RESET_DATABASES` estiver ativada (`True`).\n",
    "\n",
    "- Conecta ao banco via `FinanceDB`.\n",
    "- Executa `reset_tables()` para limpar e recriar as tabelas.\n",
    "- Carrega os dados:\n",
    "  - **Finanças**: de `financas.csv`, convertendo cada linha em `FinanceEntrySchema`, garantindo que o campo `notas` esteja presente (mesmo que vazio).\n",
    "  - **Contas**: de `accounts.csv`, convertendo cada linha em `AccountSchema`.\n",
    "- Em caso de erro, imprime o erro ocorrido.\n",
    "- Garante que o banco será fechado no final da execução com `db.close()`.\n",
    "\n",
    "> ⚠️ Use com cuidado: essa operação sobrescreve os dados atuais do banco."
   ]
  },
  {
   "cell_type": "code",
   "execution_count": null,
   "id": "b96c0f43",
   "metadata": {},
   "outputs": [],
   "source": [
    "def load_csv_and_insert(path, insert_fn, build_schema_fn, fillna_dict=None):\n",
    "    if not os.path.exists(path):\n",
    "        return\n",
    "    \n",
    "    df = pd.read_csv(path)\n",
    "    if fillna_dict:\n",
    "        df.fillna(fillna_dict, inplace=True)\n",
    "    \n",
    "    with tqdm(total=len(df), desc=f\"Inserting from {os.path.basename(path)}\") as pbar:\n",
    "        for _, row in df.iterrows():\n",
    "            schema = build_schema_fn(row)\n",
    "            insert_fn(schema)     \n",
    "            pbar.update(1)"
   ]
  },
  {
   "cell_type": "code",
   "execution_count": null,
   "id": "26243922",
   "metadata": {},
   "outputs": [
    {
     "name": "stdout",
     "output_type": "stream",
     "text": [
      "loading financas\n"
     ]
    },
    {
     "name": "stderr",
     "output_type": "stream",
     "text": [
      "Inserting from financas.csv: 100%|██████████| 463/463 [03:09<00:00,  2.45it/s]\n"
     ]
    },
    {
     "name": "stdout",
     "output_type": "stream",
     "text": [
      "loading accounts\n"
     ]
    },
    {
     "name": "stderr",
     "output_type": "stream",
     "text": [
      "Inserting from accounts.csv: 100%|██████████| 2/2 [00:00<00:00,  2.44it/s]\n"
     ]
    }
   ],
   "source": [
    "RESET_DATABASES = False\n",
    "if RESET_DATABASES:\n",
    "\n",
    "    db = FinanceDB(\"d0db18d3-b0a5-4e0b-8456-e1ca560cd574\")\n",
    "    try:\n",
    "        db.reset_tables()\n",
    "        print('loading financas')\n",
    "        load_csv_and_insert(\n",
    "            f\"{data_folder}/financas.csv\",\n",
    "            db.insert_financa,\n",
    "            lambda row: FinanceEntrySchema(**{**row, \"notas\": row.get(\"notas\", \"\") or \"\"}),\n",
    "            {\"notas\": \"\"}\n",
    "        )\n",
    "        print('loading accounts')\n",
    "        load_csv_and_insert(\n",
    "            f\"{data_folder}/accounts.csv\",\n",
    "            db.insert_account,\n",
    "            lambda row: AccountSchema(\n",
    "                nome=row.get(\"nome\", \"\"),\n",
    "                saldo_inicial=row.get(\"saldo_inicial\", 0.0),\n",
    "                open_finance_id=row.get(\"open_finance_id\"),\n",
    "            ),\n",
    "        )\n",
    "    except Exception as e:\n",
    "        print(f\"Erro geral ao restaurar: {e}\")\n",
    "\n",
    "    finally:\n",
    "        db.close()"
   ]
  },
  {
   "cell_type": "markdown",
   "id": "2e75a353",
   "metadata": {},
   "source": [
    "### 📤 Envio de Novas Entradas para Processamento\n",
    "\n",
    "Esta célula envia arquivos CSV com novas entradas financeiras para a API `/tag_financas`.  \n",
    "A execução ocorre apenas se a flag `ADD_ENTRIES` estiver ativada (`True`).\n",
    "\n",
    "#### Etapas:\n",
    "1. Percorre todos os arquivos da pasta `entries_folder`.\n",
    "2. Filtra apenas arquivos com extensão `.csv`.\n",
    "3. Para cada arquivo CSV:\n",
    "   - Envia o conteúdo via `POST` para o endpoint de tagueamento financeiro.\n",
    "   - Lança erro caso a requisição falhe (`raise_for_status()`).\n",
    "   - Move o arquivo para a pasta `old_entries_folder` após o envio com sucesso, para evitar reprocessamentos futuros.\n",
    "\n",
    "> 💡 Útil para processar novos dados financeiros de forma automática, garantindo que não sejam enviados novamente no futuro.\n"
   ]
  },
  {
   "cell_type": "code",
   "execution_count": null,
   "id": "d748fee2",
   "metadata": {},
   "outputs": [],
   "source": [
    "ADD_ENTRIES = False\n",
    "if ADD_ENTRIES:\n",
    "    for file in os.listdir(entries_folder):\n",
    "        if not file.endswith('.csv'): continue\n",
    "        file_path = fr\"{entries_folder}/{file}\"\n",
    "        with open(file_path, \"rb\") as f:\n",
    "            response = requests.post(f\"{url}/tag_financas\", files={\"file\": f})\n",
    "            response.raise_for_status()\n",
    "        shutil.move(file_path, os.path.join(old_entries_folder, os.path.basename(file_path)))"
   ]
  },
  {
   "cell_type": "code",
   "execution_count": null,
   "id": "2f0e0095",
   "metadata": {},
   "outputs": [],
   "source": [
    "463,2025-02-17T00:00:00,1329.83,Pagamentos Validos Normais,Compra no Cartão de Crédito,Transferência,Serviços Financeiros,Fatura do Cartão de Crédito,Pagamentos Validos Normais,2,Compra no Cartão de Crédito,False\n",
    "464,2025-07-20T14:42:00,-23.99,Nuvei do Brasil Ltda.,Pix enviado para Nuvei do Brasil Ltda.,Gasto,,,,1,,True\n"
   ]
  },
  {
   "cell_type": "code",
   "execution_count": null,
   "id": "d2e96647",
   "metadata": {},
   "outputs": [],
   "source": [
    "465,2025-07-15T00:00:00,1527.06,Pagamentos Validos Normais,Compra no Cartão de Crédito,Transferência,,,,2,,True"
   ]
  },
  {
   "cell_type": "code",
   "execution_count": null,
   "id": "e634a9f4",
   "metadata": {},
   "outputs": [],
   "source": [
    "\n",
    "entries = FinanceEntrySchema(\n",
    "    id=465,\n",
    "    data=datetime.strptime(\"2025-07-20T14:42:00\", \"%Y-%m-%dT%H:%M:%S\"),\n",
    "    categoria=\"Serviços Financeiros\",\n",
    "    conta=2,\n",
    "    descricao=\"Compra no Cartão de Crédito\",\n",
    "    destino_origem=\"Pagamentos Validos Normais\",\n",
    "    need_tagging=False,\n",
    "    nome=\"Pagamentos Validos Normais\",\n",
    "    notas=\"Compra no Cartão de Crédito\",\n",
    "    subcategoria=\"Fatura do Cartão de Crédito\",\n",
    "    tipo=\"Transferência\",\n",
    "    valor=1527.06\n",
    ")"
   ]
  },
  {
   "cell_type": "code",
   "execution_count": 6,
   "id": "ca917c2d",
   "metadata": {},
   "outputs": [
    {
     "data": {
      "text/plain": [
       "FinanceEntrySchema(id=464, data=datetime.datetime(2025, 7, 20, 14, 42), valor=1527.06, destino_origem='Pagamentos Validos Normais', descricao='Compra no Cartão de Crédito', tipo='Transferência', categoria='Serviços Financeiros', subcategoria='Fatura do Cartão de Crédito', nome='Pagamentos Validos Normais', conta=2, notas='Compra no Cartão de Crédito', need_tagging=False)"
      ]
     },
     "execution_count": 6,
     "metadata": {},
     "output_type": "execute_result"
    }
   ],
   "source": [
    "entries"
   ]
  },
  {
   "cell_type": "code",
   "execution_count": 10,
   "id": "9b4b6aa7",
   "metadata": {},
   "outputs": [
    {
     "data": {
      "text/plain": [
       "{'user_id': 'd0db18d3-b0a5-4e0b-8456-e1ca560cd574',\n",
       " 'entries': [{'id': 464,\n",
       "   'data': datetime.datetime(2025, 7, 20, 14, 42),\n",
       "   'valor': 1527.06,\n",
       "   'destino_origem': 'Pagamentos Validos Normais',\n",
       "   'descricao': 'Compra no Cartão de Crédito',\n",
       "   'tipo': 'Transferência',\n",
       "   'categoria': 'Serviços Financeiros',\n",
       "   'subcategoria': 'Fatura do Cartão de Crédito',\n",
       "   'nome': 'Pagamentos Validos Normais',\n",
       "   'conta': 2,\n",
       "   'notas': 'Compra no Cartão de Crédito',\n",
       "   'need_tagging': False}]}"
      ]
     },
     "execution_count": 10,
     "metadata": {},
     "output_type": "execute_result"
    }
   ],
   "source": [
    "body|{\"entries\": [entries.model_dump()]}"
   ]
  },
  {
   "cell_type": "code",
   "execution_count": 13,
   "id": "d27ac4a7",
   "metadata": {},
   "outputs": [],
   "source": [
    "response = requests.post(f\"{url}/update_financas\", json=body|{\"entries\": [entries.model_dump(mode=\"json\")]})\n",
    "response.raise_for_status()"
   ]
  }
 ],
 "metadata": {
  "kernelspec": {
   "display_name": ".venv (3.13.1)",
   "language": "python",
   "name": "python3"
  },
  "language_info": {
   "codemirror_mode": {
    "name": "ipython",
    "version": 3
   },
   "file_extension": ".py",
   "mimetype": "text/x-python",
   "name": "python",
   "nbconvert_exporter": "python",
   "pygments_lexer": "ipython3",
   "version": "3.13.1"
  }
 },
 "nbformat": 4,
 "nbformat_minor": 5
}
