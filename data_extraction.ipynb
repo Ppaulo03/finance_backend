{
 "cells": [
  {
   "cell_type": "code",
   "execution_count": null,
   "id": "a3928e02",
   "metadata": {},
   "outputs": [],
   "source": [
    "import io, os\n",
    "from IPython.display import display, Markdown, clear_output\n",
    "import ipywidgets as widgets\n",
    "\n",
    "from tagging.sugest import sugerir_rotulos\n",
    "from etl.extract import extract_data"
   ]
  },
  {
   "cell_type": "code",
   "execution_count": 2,
   "id": "4250809c",
   "metadata": {},
   "outputs": [],
   "source": [
    "contas = [\"Conta Corrente XP\", \"Cartão de Crédito XP\"]\n",
    "labels = [\"Data\",\"Valor\",\"Destino / Origem\",\"Descricao\",\"Tipo\",\"Categoria\",\"Subcategoria\",\"Nome\",\"Conta\",\"Notas\"]\n",
    "entry_file = \"entry.csv\"\n",
    "backup_folder = \"data/backup\"\n",
    "db_file = \"data/AllData.csv\""
   ]
  },
  {
   "cell_type": "code",
   "execution_count": 3,
   "id": "3b74433e",
   "metadata": {},
   "outputs": [],
   "source": [
    "def get_upload_widget() -> widgets.FileUpload:\n",
    "    return widgets.FileUpload(\n",
    "        accept=\".csv\",\n",
    "        multiple=False,\n",
    "        description=\"📁 Selecionar CSV\",\n",
    "        style={\"font_weight\": \"bold\"},\n",
    "        layout=widgets.Layout(padding=\"8px 15px\", width=\"auto\"),\n",
    "    )\n",
    "\n",
    "\n",
    "def criar_campos_input():\n",
    "    conta = widgets.Dropdown(options=contas, layout=widgets.Layout(width='30%'))\n",
    "    tipo = widgets.Text(description=\"Tipo:\", placeholder=\"Digite o tipo aqui\", layout=widgets.Layout(width='30%'))\n",
    "    categoria = widgets.Text(description=\"Categoria:\", placeholder=\"Digite a categoria aqui\", layout=widgets.Layout(width='30%'))\n",
    "    subcategoria = widgets.Text(description=\"Subcategoria:\", placeholder=\"Digite a subcategoria aqui\", layout=widgets.Layout(width='30%'))\n",
    "    nome = widgets.Text(description=\"Nome:\", placeholder=\"Digite o nome aqui\", layout=widgets.Layout(width='100%'))\n",
    "    notas = widgets.Textarea(description=\"Notas:\", placeholder=\"Digite notas aqui\", layout=widgets.Layout(width='100%', height='100px'))\n",
    "    return conta, tipo, categoria, subcategoria, nome, notas\n",
    "\n",
    "def mostrar_item(row, index, size):\n",
    "    clear_output(wait=True)\n",
    "    texto = f\"### Item {index+1} / {size}\\n\"\n",
    "    for k, v in row.items():\n",
    "        texto += f\"**{k}**: {v}  \\n\"\n",
    "    display(Markdown(texto))\n"
   ]
  },
  {
   "cell_type": "code",
   "execution_count": 4,
   "id": "7b6a23ec",
   "metadata": {},
   "outputs": [],
   "source": [
    "def save_row(row):\n",
    "    if not os.path.exists(entry_file):\n",
    "        with open(entry_file, \"w\", encoding=\"utf-8-sig\") as f:\n",
    "            f.write(','.join(labels) + '\\n')\n",
    "\n",
    "    with open(entry_file, \"a\", encoding=\"utf-8-sig\") as f:\n",
    "        f.write(','.join([str(row.get(label, '')) for label in labels]) + '\\n')"
   ]
  },
  {
   "cell_type": "code",
   "execution_count": 5,
   "id": "43caa73e",
   "metadata": {},
   "outputs": [],
   "source": [
    "def handle_upload(_):\n",
    "    if value := upload_widget.value:\n",
    "        file_info = next(iter(value.values()))\n",
    "        content = file_info[\"content\"]\n",
    "        df = extract_data(io.BytesIO(content))\n",
    "        process_row(df, 0)\n",
    "\n",
    "\n",
    "def exibir_upload_widget():\n",
    "    global upload_widget\n",
    "    upload_widget = get_upload_widget()\n",
    "    upload_widget.observe(handle_upload, names=\"value\")\n",
    "    display(upload_widget)\n",
    "\n",
    "\n",
    "def process_row(df, index):\n",
    "    row = df.iloc[index]\n",
    "    mostrar_item(row, index, len(df))\n",
    "\n",
    "    conta, tipo, categoria, subcategoria, nome, notas = criar_campos_input()\n",
    "\n",
    "    if rotulos := sugerir_rotulos(row[\"Data\"], row[\"Valor\"], row[\"Destino / Origem\"], row[\"Descricao\"]):\n",
    "        tipo.value = rotulos.get(\"Tipo\", \"\")\n",
    "        categoria.value = rotulos.get(\"Categoria\", \"\")\n",
    "        subcategoria.value = rotulos.get(\"Subcategoria\", \"\")\n",
    "        nome.value = rotulos.get(\"Nome\", \"\")\n",
    "\n",
    "    linha_superior = widgets.HBox([conta, tipo, categoria, subcategoria], layout=widgets.Layout(gap='10px'))\n",
    "    linha_media = widgets.HBox([nome])\n",
    "    linha_inferior = widgets.HBox([notas], layout=widgets.Layout(width='100%'))\n",
    "\n",
    "    formulario = widgets.VBox([linha_superior, linha_media, linha_inferior], layout=widgets.Layout(width='100%', gap='10px'))\n",
    "\n",
    "    button = widgets.Button(description=\"Confirmar\")\n",
    "    output = widgets.Output()\n",
    "\n",
    "    def on_confirm(_):\n",
    "\n",
    "        tipo_value = tipo.value.strip()\n",
    "        categoria_value = categoria.value.strip()\n",
    "        subcategoria_value= subcategoria.value.strip()\n",
    "        nome_value = nome.value.strip()\n",
    "\n",
    "        if not tipo_value:\n",
    "            with output:\n",
    "                clear_output()\n",
    "                print(\"Por favor, insira um tipo antes de confirmar.\")\n",
    "            return\n",
    "\n",
    "        if not categoria_value:\n",
    "            with output:\n",
    "                clear_output()\n",
    "                print(\"Por favor, insira uma categoria antes de confirmar.\")\n",
    "            return\n",
    "        \n",
    "        if not subcategoria_value:\n",
    "            with output:\n",
    "                clear_output()\n",
    "                print(\"Por favor, insira uma subcategoria antes de confirmar.\")\n",
    "            return\n",
    "        \n",
    "        if not nome_value:\n",
    "            with output:\n",
    "                clear_output()\n",
    "                print(\"Por favor, insira um nome antes de confirmar.\")\n",
    "            return\n",
    "        \n",
    "        \n",
    "        row_data = {\n",
    "            \"Data\": row[\"Data\"],\n",
    "            \"Valor\": row[\"Valor\"],\n",
    "            \"Destino / Origem\": row[\"Destino / Origem\"],\n",
    "            \"Descricao\": row[\"Descricao\"],\n",
    "            \"Tipo\": tipo_value,\n",
    "            \"Categoria\": categoria_value,\n",
    "            \"Subcategoria\": subcategoria_value,\n",
    "            \"Nome\": f'\"{nome_value}\"',\n",
    "            \"Conta\": contas.index(conta.value)+1 if conta.value in contas else conta.value,\n",
    "            \"Notas\": notas.value.strip()\n",
    "        }\n",
    "        save_row(row_data)\n",
    "        if index + 1 < len(df):\n",
    "            process_row(df, index + 1)\n",
    "        else:\n",
    "            clear_output()\n",
    "            exibir_upload_widget()\n",
    "\n",
    "    button.on_click(on_confirm)\n",
    "    display(formulario, button, output)\n"
   ]
  },
  {
   "cell_type": "code",
   "execution_count": 6,
   "id": "2bd243a5",
   "metadata": {},
   "outputs": [
    {
     "data": {
      "text/markdown": [
       "### Item 2 / 11\n",
       "**Data**: 2024-11-07 00:00:00  \n",
       "**Valor**: -12.92  \n",
       "**Destino / Origem**: UBER* PENDING  \n",
       "**Descricao**: Compra no Cartão de Crédito  \n",
       "**Tipo**: Gasto  \n"
      ],
      "text/plain": [
       "<IPython.core.display.Markdown object>"
      ]
     },
     "metadata": {},
     "output_type": "display_data"
    },
    {
     "data": {
      "application/vnd.jupyter.widget-view+json": {
       "model_id": "ef8be623bd3b4162a4bf401ee9c15756",
       "version_major": 2,
       "version_minor": 0
      },
      "text/plain": [
       "VBox(children=(HBox(children=(Dropdown(layout=Layout(width='30%'), options=('Conta Corrente XP', 'Cartão de Cr…"
      ]
     },
     "metadata": {},
     "output_type": "display_data"
    },
    {
     "data": {
      "application/vnd.jupyter.widget-view+json": {
       "model_id": "908692748e2642d5aba680a56f22e8ff",
       "version_major": 2,
       "version_minor": 0
      },
      "text/plain": [
       "Button(description='Confirmar', style=ButtonStyle())"
      ]
     },
     "metadata": {},
     "output_type": "display_data"
    },
    {
     "data": {
      "application/vnd.jupyter.widget-view+json": {
       "model_id": "d482b343229c429fb93f0d92cd8e1df6",
       "version_major": 2,
       "version_minor": 0
      },
      "text/plain": [
       "Output()"
      ]
     },
     "metadata": {},
     "output_type": "display_data"
    }
   ],
   "source": [
    "upload_widget = get_upload_widget()\n",
    "upload_widget.observe(handle_upload, names=\"value\")\n",
    "display(upload_widget)"
   ]
  },
  {
   "cell_type": "code",
   "execution_count": 7,
   "id": "6d6ead25",
   "metadata": {},
   "outputs": [],
   "source": [
    "from database import FinanceDB\n",
    "from schemas import FinanceEntrySchema, Account\n",
    "from tagging.train import train_models\n",
    "import pandas as pd\n",
    "from time import time"
   ]
  },
  {
   "cell_type": "code",
   "execution_count": 9,
   "id": "8bdaf1be",
   "metadata": {},
   "outputs": [
    {
     "name": "stderr",
     "output_type": "stream",
     "text": [
      "\u001b[32m2025-07-14 15:07:32.863\u001b[0m | \u001b[1mINFO    \u001b[0m | \u001b[36mtagging.train\u001b[0m:\u001b[36mtreinar_modelo\u001b[0m:\u001b[36m51\u001b[0m - \u001b[1mModelo salvo em: tagging/models/modelo_tipo.pkl\u001b[0m\n",
      "\u001b[32m2025-07-14 15:07:33.232\u001b[0m | \u001b[1mINFO    \u001b[0m | \u001b[36mtagging.train\u001b[0m:\u001b[36mtreinar_modelo\u001b[0m:\u001b[36m51\u001b[0m - \u001b[1mModelo salvo em: tagging/models/modelo_categoria.pkl\u001b[0m\n",
      "\u001b[32m2025-07-14 15:07:33.629\u001b[0m | \u001b[1mINFO    \u001b[0m | \u001b[36mtagging.train\u001b[0m:\u001b[36mtreinar_modelo\u001b[0m:\u001b[36m51\u001b[0m - \u001b[1mModelo salvo em: tagging/models/modelo_subcategoria.pkl\u001b[0m\n",
      "\u001b[32m2025-07-14 15:07:34.090\u001b[0m | \u001b[1mINFO    \u001b[0m | \u001b[36mtagging.train\u001b[0m:\u001b[36mtreinar_modelo\u001b[0m:\u001b[36m51\u001b[0m - \u001b[1mModelo salvo em: tagging/models/modelo_nome.pkl\u001b[0m\n"
     ]
    }
   ],
   "source": [
    "if os.path.exists(entry_file):\n",
    "    df = pd.read_csv(entry_file)\n",
    "    \n",
    "    # db = FinanceDB()\n",
    "    # db.connect()\n",
    "    for index, row in df.iterrows():\n",
    "        row[\"Notas\"] = row[\"Notas\"] if not pd.isna(row[\"Notas\"]) else \"\" \n",
    "        entry = FinanceEntrySchema(\n",
    "            data=row[\"Data\"],\n",
    "            valor=row[\"Valor\"],\n",
    "            destino_origem=row[\"Destino / Origem\"],\n",
    "            descricao=row[\"Descricao\"],\n",
    "            tipo=row[\"Tipo\"],\n",
    "            categoria=row[\"Categoria\"],\n",
    "            subcategoria=row[\"Subcategoria\"],\n",
    "            nome=row[\"Nome\"],\n",
    "            conta=row[\"Conta\"],\n",
    "            notas=row[\"Notas\"],\n",
    "        )\n",
    "        row[\"Nome\"] = f'\"{row[\"Nome\"]}\"'\n",
    "\n",
    "        with open(db_file, \"a\", encoding=\"utf-8-sig\") as f:\n",
    "            f.write(','.join([str(row[label]) for label in labels]) + '\\n')\n",
    "    #     db.insert_financa(entry)\n",
    "    # db.close()\n",
    "    os.remove(entry_file)\n",
    "    df.to_csv(f'{backup_folder}/entries/entry_{int(time())}.csv', index=False, encoding=\"utf-8-sig\")\n",
    "\n",
    "    df = pd.read_csv(db_file, encoding=\"utf-8-sig\")\n",
    "    df.to_csv(f'{backup_folder}/all_data/AllData_{int(time())}.csv', index=False, encoding=\"utf-8-sig\")\n",
    "    train_models(db_file)\n",
    "\n",
    "    "
   ]
  }
 ],
 "metadata": {
  "kernelspec": {
   "display_name": "venv",
   "language": "python",
   "name": "python3"
  },
  "language_info": {
   "codemirror_mode": {
    "name": "ipython",
    "version": 3
   },
   "file_extension": ".py",
   "mimetype": "text/x-python",
   "name": "python",
   "nbconvert_exporter": "python",
   "pygments_lexer": "ipython3",
   "version": "3.13.2"
  }
 },
 "nbformat": 4,
 "nbformat_minor": 5
}
