{
 "cells": [
  {
   "cell_type": "code",
   "execution_count": 21,
   "id": "422b471c",
   "metadata": {},
   "outputs": [],
   "source": [
    "from IPython.display import display, clear_output, Markdown\n",
    "import ipywidgets as widgets\n",
    "from widgets.upload import get_upload_widget\n",
    "from tagging.sugest import sugerir_rotulos\n",
    "from extract import extract_data\n",
    "import io\n",
    "\n",
    "from database import FinanceDB\n",
    "import pandas as pd"
   ]
  },
  {
   "cell_type": "code",
   "execution_count": null,
   "id": "36cb513e",
   "metadata": {},
   "outputs": [
    {
     "data": {
      "text/markdown": [
       "### Item 2\n",
       "**Data**: 2024-05-02 07:07:52  \n",
       "**Valor**: -500.0  \n",
       "**Destino / Origem**: para conta investimento  \n",
       "**Descricao**: Transferência enviada para conta investimento  \n",
       "**Tipo**: Transferência  \n"
      ],
      "text/plain": [
       "<IPython.core.display.Markdown object>"
      ]
     },
     "metadata": {},
     "output_type": "display_data"
    },
    {
     "data": {
      "application/vnd.jupyter.widget-view+json": {
       "model_id": "b386107c089f4c67aca54f4aee42b2ff",
       "version_major": 2,
       "version_minor": 0
      },
      "text/plain": [
       "Text(value='Aporte para Investimento', description='Label:', placeholder='Digite o rótulo aqui')"
      ]
     },
     "metadata": {},
     "output_type": "display_data"
    },
    {
     "data": {
      "application/vnd.jupyter.widget-view+json": {
       "model_id": "fafc9e794d584512a412d585421e718d",
       "version_major": 2,
       "version_minor": 0
      },
      "text/plain": [
       "Text(value='Pedro Paulo Carvalho Vieira (si mesmo, conta investimento)', description='Nome:', placeholder='Dig…"
      ]
     },
     "metadata": {},
     "output_type": "display_data"
    },
    {
     "data": {
      "application/vnd.jupyter.widget-view+json": {
       "model_id": "6cfe97f2ffa1487d82c9c38926cf3175",
       "version_major": 2,
       "version_minor": 0
      },
      "text/plain": [
       "Button(description='Confirmar', style=ButtonStyle())"
      ]
     },
     "metadata": {},
     "output_type": "display_data"
    },
    {
     "data": {
      "application/vnd.jupyter.widget-view+json": {
       "model_id": "cfaa28f7ff154f6e8811a645e4b6c9e0",
       "version_major": 2,
       "version_minor": 0
      },
      "text/plain": [
       "Output()"
      ]
     },
     "metadata": {},
     "output_type": "display_data"
    }
   ],
   "source": [
    "\n",
    "upload_widget = get_upload_widget()\n",
    "\n",
    "\n",
    "def process_row(df, index, labels):\n",
    "    row = df.iloc[index]\n",
    "    clear_output(wait=True)\n",
    "    \n",
    "    text = f\"### Item {index}\\n\"\n",
    "    for k, v in row.items():\n",
    "        text += f\"**{k}**: {v}  \\n\"  # Use dois espaços antes do \\n para quebra no Markdown\n",
    "    display(Markdown(text))\n",
    "\n",
    "    \n",
    "\n",
    "\n",
    "    input_text = widgets.Text(description=\"Label:\", placeholder=\"Digite o rótulo aqui\")\n",
    "    nome_text = widgets.Text(description=\"Nome:\", placeholder=\"Digite o nome aqui\")\n",
    "\n",
    "    if rotulos := sugerir_rotulos(row[\"Data\"], row[\"Valor\"], row[\"Destino / Origem\"], row[\"Descricao\"]):\n",
    "        input_text.value = rotulos[\"Subcategoria\"]\n",
    "        nome_text.value = rotulos[\"Nome\"]\n",
    "\n",
    "    button = widgets.Button(description=\"Confirmar\")\n",
    "    \n",
    "    output = widgets.Output()\n",
    "    \n",
    "    def on_confirm(b):\n",
    "        global upload_widget\n",
    "        nonlocal index\n",
    "        label = input_text.value.strip()\n",
    "        if not label:\n",
    "            with output:\n",
    "                clear_output()\n",
    "                print(\"Por favor, insira um rótulo antes de confirmar.\")\n",
    "            return\n",
    "        \n",
    "        labels.append(label)\n",
    "        \n",
    "        if index + 1 < len(df):\n",
    "            process_row(df, index + 1, labels)\n",
    "        else:\n",
    "            clear_output()\n",
    "            print(\"Fim da lista. Labels cadastrados:\")\n",
    "            for i, lab in enumerate(labels):\n",
    "                print(f\"Row {i}: {lab}\")\n",
    "            \n",
    "            upload_widget = get_upload_widget()\n",
    "            upload_widget.observe(handle_upload, names=\"value\")\n",
    "            display(upload_widget)\n",
    "    \n",
    "    button.on_click(on_confirm)\n",
    "    display(input_text, nome_text, button, output)\n",
    "    \n",
    "\n",
    "\n",
    "def handle_upload(_):\n",
    "    if value:=upload_widget.value:\n",
    "        file_info = next(iter(value.values()))\n",
    "        content = file_info[\"content\"]\n",
    "        df = extract_data(io.BytesIO(content))\n",
    "        labels = []\n",
    "        process_row(df, 0, labels)\n",
    "\n",
    "    \n",
    "    \n",
    "upload_widget.observe(handle_upload, names=\"value\")\n",
    "display(upload_widget)"
   ]
  }
 ],
 "metadata": {
  "kernelspec": {
   "display_name": "venv",
   "language": "python",
   "name": "python3"
  },
  "language_info": {
   "codemirror_mode": {
    "name": "ipython",
    "version": 3
   },
   "file_extension": ".py",
   "mimetype": "text/x-python",
   "name": "python",
   "nbconvert_exporter": "python",
   "pygments_lexer": "ipython3",
   "version": "3.13.2"
  }
 },
 "nbformat": 4,
 "nbformat_minor": 5
}
