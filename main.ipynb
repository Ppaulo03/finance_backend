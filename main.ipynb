{
 "cells": [
  {
   "cell_type": "code",
   "execution_count": 1,
   "id": "422b471c",
   "metadata": {},
   "outputs": [],
   "source": [
    "from IPython.display import display, clear_output, Markdown\n",
    "import ipywidgets as widgets\n",
    "from widgets.upload import get_upload_widget\n",
    "from tagging.sugest import sugerir_rotulos\n",
    "from extract import extract_data\n",
    "import io\n",
    "\n",
    "from database import FinanceDB\n",
    "import pandas as pd"
   ]
  },
  {
   "cell_type": "code",
   "execution_count": null,
   "id": "36cb513e",
   "metadata": {},
   "outputs": [
    {
     "data": {
      "text/markdown": [
       "### Item 0\n",
       "**Data**: 2024-09-25 08:20:13  \n",
       "**Valor**: -354.16  \n",
       "**Destino / Origem**: BANCO XP S/A  \n",
       "**Descricao**: Pagamento para BANCO XP S/A  \n",
       "**Tipo**: Gasto  \n"
      ],
      "text/plain": [
       "<IPython.core.display.Markdown object>"
      ]
     },
     "metadata": {},
     "output_type": "display_data"
    },
    {
     "data": {
      "application/vnd.jupyter.widget-view+json": {
       "model_id": "ec3f8500c58248b0a943e81095d72e07",
       "version_major": 2,
       "version_minor": 0
      },
      "text/plain": [
       "VBox(children=(HBox(children=(Text(value='Transferência', description='Tipo:', layout=Layout(width='30%'), pla…"
      ]
     },
     "metadata": {},
     "output_type": "display_data"
    },
    {
     "data": {
      "application/vnd.jupyter.widget-view+json": {
       "model_id": "12c186e610174065b7e792580ced0a6c",
       "version_major": 2,
       "version_minor": 0
      },
      "text/plain": [
       "Button(description='Confirmar', style=ButtonStyle())"
      ]
     },
     "metadata": {},
     "output_type": "display_data"
    },
    {
     "data": {
      "application/vnd.jupyter.widget-view+json": {
       "model_id": "71e049d8f5c346a19d6c70da87c3e488",
       "version_major": 2,
       "version_minor": 0
      },
      "text/plain": [
       "Output()"
      ]
     },
     "metadata": {},
     "output_type": "display_data"
    }
   ],
   "source": [
    "import ipywidgets as widgets\n",
    "from IPython.display import display, Markdown, clear_output\n",
    "from widgets.new_entry import new_entry_input, mostrar_item\n",
    "import io\n",
    "\n",
    "\n",
    "# Função principal de processamento\n",
    "def process_row(df, index, labels):\n",
    "    row = df.iloc[index]\n",
    "    mostrar_item(row, index)\n",
    "\n",
    "    tipo, categoria, subcategoria, nome = new_entry_input()\n",
    "\n",
    "    # Sugestão de preenchimento automático\n",
    "    if rotulos := sugerir_rotulos(row[\"Data\"], row[\"Valor\"], row[\"Destino / Origem\"], row[\"Descricao\"]):\n",
    "        tipo.value = rotulos.get(\"Tipo\", \"\")\n",
    "        categoria.value = rotulos.get(\"Categoria\", \"\")\n",
    "        subcategoria.value = rotulos.get(\"Subcategoria\", \"\")\n",
    "        nome.value = rotulos.get(\"Nome\", \"\")\n",
    "\n",
    "    # Agrupando layout\n",
    "    linha_superior = widgets.HBox([tipo, categoria, subcategoria], layout=widgets.Layout(gap='10px'))\n",
    "    linha_inferior = widgets.HBox([nome])\n",
    "    formulario = widgets.VBox([linha_superior, linha_inferior], layout=widgets.Layout(width='100%', gap='10px'))\n",
    "\n",
    "    button = widgets.Button(description=\"Confirmar\")\n",
    "    output = widgets.Output()\n",
    "\n",
    "    def on_confirm(_):\n",
    "        label = categoria.value.strip()\n",
    "        if not label:\n",
    "            with output:\n",
    "                clear_output()\n",
    "                print(\"Por favor, insira uma categoria antes de confirmar.\")\n",
    "            return\n",
    "\n",
    "        labels.append(label)\n",
    "\n",
    "        if index + 1 < len(df):\n",
    "            process_row(df, index + 1, labels)\n",
    "        else:\n",
    "            clear_output()\n",
    "            print(\"Fim da lista. Labels cadastrados:\")\n",
    "            for i, lab in enumerate(labels):\n",
    "                print(f\"Row {i}: {lab}\")\n",
    "            exibir_upload_widget()\n",
    "\n",
    "    button.on_click(on_confirm)\n",
    "    display(formulario, button, output)\n",
    "\n",
    "\n",
    "def handle_upload(_):\n",
    "    if value := upload_widget.value:\n",
    "        file_info = next(iter(value.values()))\n",
    "        content = file_info[\"content\"]\n",
    "        df = extract_data(io.BytesIO(content))\n",
    "        process_row(df, 0, [])\n",
    "\n",
    "def exibir_upload_widget():\n",
    "    global upload_widget\n",
    "    upload_widget = get_upload_widget()\n",
    "    upload_widget.observe(handle_upload, names=\"value\")\n",
    "    display(upload_widget)\n",
    "\n",
    "# Execução inicial\n",
    "upload_widget = get_upload_widget()\n",
    "upload_widget.observe(handle_upload, names=\"value\")\n",
    "display(upload_widget)\n"
   ]
  }
 ],
 "metadata": {
  "kernelspec": {
   "display_name": "venv",
   "language": "python",
   "name": "python3"
  },
  "language_info": {
   "codemirror_mode": {
    "name": "ipython",
    "version": 3
   },
   "file_extension": ".py",
   "mimetype": "text/x-python",
   "name": "python",
   "nbconvert_exporter": "python",
   "pygments_lexer": "ipython3",
   "version": "3.13.2"
  }
 },
 "nbformat": 4,
 "nbformat_minor": 5
}
